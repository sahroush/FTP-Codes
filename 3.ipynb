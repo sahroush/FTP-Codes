{
 "cells": [
  {
   "cell_type": "code",
   "execution_count": 1,
   "metadata": {},
   "outputs": [
    {
     "name": "stdout",
     "output_type": "stream",
     "text": [
      "1.00000000\n"
     ]
    }
   ],
   "source": [
    "import numpy as np\n",
    "import sys\n",
    "\n",
    "changes_range = 0.001\n",
    "a_range = np.arange(0.01, np.pi / 2, changes_range)\n",
    "b_range = np.arange(0.01, np.pi / 2, changes_range)\n",
    "\n",
    "max_value = 0\n",
    "for a in a_range:\n",
    "    for b in b_range:\n",
    "        x = np.linspace(0.01, np.pi, 1000)\n",
    "        numerator = 2 * np.arcsin((np.sqrt(np.sin((a - b) / 2) ** 2 + np.sin(a) * np.sin(b) * np.sin(x / 2) ** 2)))\n",
    "        denominator = np.sqrt(a ** 2 + b ** 2 - 2 * a * b * np.cos(x))\n",
    "        y = numerator / denominator\n",
    "        max_value = max(max_value, np.max(y))\n",
    "\n",
    "print(f\"{max_value:.8f}\")"
   ]
  },
  {
   "cell_type": "markdown",
   "metadata": {},
   "source": [
    "For each a and b it shows the answer : "
   ]
  },
  {
   "cell_type": "code",
   "execution_count": 2,
   "metadata": {},
   "outputs": [
    {
     "name": "stdout",
     "output_type": "stream",
     "text": [
      "[[1. 1. 1. ... 0. 0. 0.]\n",
      " [1. 1. 1. ... 0. 0. 0.]\n",
      " [1. 1. 1. ... 0. 0. 0.]\n",
      " ...\n",
      " [0. 0. 0. ... 0. 0. 0.]\n",
      " [0. 0. 0. ... 0. 0. 0.]\n",
      " [0. 0. 0. ... 0. 0. 0.]]\n"
     ]
    }
   ],
   "source": [
    "import numpy as np\n",
    "import matplotlib.pyplot as plt\n",
    "\n",
    "def calculateAnswer(a, b):\n",
    "    x = np.linspace(0.01, np.pi, 1000)\n",
    "    numerator = 2 * np.arcsin((np.sqrt(np.sin((a - b) / 2) ** 2 + np.sin(a) * np.sin(b) * np.sin(x / 2) ** 2)))\n",
    "    denominator = np.sqrt(a ** 2 + b ** 2 - 2 * a * b * np.cos(x))\n",
    "    return np.max(numerator / denominator)\n",
    "\n",
    "changes_range = 0.01\n",
    "a_range = np.arange(0.01, np.pi / 2, changes_range)\n",
    "b_range = np.arange(0.01, np.pi / 2, changes_range)\n",
    "ans = np.zeros((1000, 1000))\n",
    "\n",
    "for i, a in enumerate(a_range):\n",
    "    for j, b in enumerate(b_range):\n",
    "        ans[i, j] = calculateAnswer(a, b)\n",
    "\n",
    "print(ans)"
   ]
  },
  {
   "cell_type": "code",
   "execution_count": null,
   "metadata": {},
   "outputs": [],
   "source": []
  }
 ],
 "metadata": {
  "kernelspec": {
   "display_name": "Python 3",
   "language": "python",
   "name": "python3"
  },
  "language_info": {
   "codemirror_mode": {
    "name": "ipython",
    "version": 3
   },
   "file_extension": ".py",
   "mimetype": "text/x-python",
   "name": "python",
   "nbconvert_exporter": "python",
   "pygments_lexer": "ipython3",
   "version": "3.11.5"
  }
 },
 "nbformat": 4,
 "nbformat_minor": 2
}
